{
  "nbformat": 4,
  "nbformat_minor": 0,
  "metadata": {
    "colab": {
      "provenance": []
    },
    "kernelspec": {
      "name": "python3",
      "display_name": "Python 3"
    },
    "language_info": {
      "name": "python"
    }
  },
  "cells": [
    {
      "cell_type": "code",
      "source": [
        "import heapq\n",
        "\n",
        "class Node:\n",
        "    def __init__(self, position, parent=None):\n",
        "        self.position = position\n",
        "        self.parent = parent\n",
        "        self.g = 0  # Cost from start to this node\n",
        "        self.h = 0  # Heuristic (estimated cost to goal)\n",
        "        self.f = 0  # Total cost\n",
        "\n",
        "    def __lt__(self, other):\n",
        "        return self.f < other.f\n",
        "\n",
        "def heuristic(a, b):\n",
        "    return abs(a[0] - b[0]) + abs(a[1] - b[1])  # Manhattan distance\n",
        "\n",
        "def a_star(grid, start, goal):\n",
        "    open_list = []\n",
        "    closed_set = set()\n",
        "    start_node = Node(start)\n",
        "    goal_node = Node(goal)\n",
        "    heapq.heappush(open_list, start_node)\n",
        "\n",
        "    while open_list:\n",
        "        current_node = heapq.heappop(open_list)\n",
        "\n",
        "        if current_node.position == goal_node.position:\n",
        "            path = []\n",
        "            while current_node:\n",
        "                path.append(current_node.position)\n",
        "                current_node = current_node.parent\n",
        "            return path[::-1]  # Return reversed path\n",
        "\n",
        "        closed_set.add(current_node.position)\n",
        "\n",
        "        for dx, dy in [(-1, 0), (1, 0), (0, -1), (0, 1)]:  # Move in 4 directions\n",
        "            neighbor_pos = (current_node.position[0] + dx, current_node.position[1] + dy)\n",
        "            if (neighbor_pos[0] < 0 or neighbor_pos[1] < 0 or\n",
        "                neighbor_pos[0] >= len(grid) or neighbor_pos[1] >= len(grid[0]) or\n",
        "                grid[neighbor_pos[0]][neighbor_pos[1]] == 1 or  # Obstacle check\n",
        "                neighbor_pos in closed_set):\n",
        "                continue\n",
        "\n",
        "            neighbor_node = Node(neighbor_pos, current_node)\n",
        "            neighbor_node.g = current_node.g + 1\n",
        "            neighbor_node.h = heuristic(neighbor_pos, goal_node.position)\n",
        "            neighbor_node.f = neighbor_node.g + neighbor_node.h\n",
        "\n",
        "            if any(open_node.position == neighbor_node.position and open_node.f <= neighbor_node.f for open_node in open_list):\n",
        "                continue\n",
        "\n",
        "            heapq.heappush(open_list, neighbor_node)\n",
        "\n",
        "    return None  # No path found\n",
        "\n",
        "# Example usage\n",
        "grid = [\n",
        "    [0, 1, 0, 0, 0],\n",
        "    [0, 1, 0, 1, 0],\n",
        "    [0, 0, 0, 1, 0],\n",
        "    [0, 1, 1, 1, 0],\n",
        "    [0, 0, 0, 0, 0]\n",
        "]\n",
        "start = (0, 0)\n",
        "goal = (4,4)\n",
        "path = a_star(grid, start, goal)\n",
        "print(\"Path:\", path)\n"
      ],
      "metadata": {
        "colab": {
          "base_uri": "https://localhost:8080/"
        },
        "id": "GT7Y4vxXo0N5",
        "outputId": "3d101a47-e15a-4b5b-ec45-a990e12fd40c"
      },
      "execution_count": 7,
      "outputs": [
        {
          "output_type": "stream",
          "name": "stdout",
          "text": [
            "Path: [(0, 0), (1, 0), (2, 0), (3, 0), (4, 0), (4, 1), (4, 2), (4, 3), (4, 4)]\n"
          ]
        }
      ]
    }
  ]
}